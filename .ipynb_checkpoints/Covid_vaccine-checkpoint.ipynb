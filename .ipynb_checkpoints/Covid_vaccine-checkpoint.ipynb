{
 "cells": [
  {
   "cell_type": "markdown",
   "id": "4a2c8f9d",
   "metadata": {},
   "source": [
    "### 1. import libraries"
   ]
  },
  {
   "cell_type": "code",
   "execution_count": 3,
   "id": "9d176811-6d31-4d88-9932-5e88f0dc4667",
   "metadata": {
    "scrolled": true
   },
   "outputs": [
    {
     "name": "stderr",
     "output_type": "stream",
     "text": [
      "/Users/shengnan/opt/anaconda3/lib/python3.8/site-packages/scipy/__init__.py:138: UserWarning: A NumPy version >=1.16.5 and <1.23.0 is required for this version of SciPy (detected version 1.23.4)\n",
      "  warnings.warn(f\"A NumPy version >={np_minversion} and <{np_maxversion} is required for this version of \"\n"
     ]
    }
   ],
   "source": [
    "from IPython.display import JSON\n",
    "import pandas as pd\n",
    "import json\n",
    "import seaborn as sns\n",
    "import matplotlib.pyplot as plt\n",
    "from ipywidgets import interact  "
   ]
  },
  {
   "cell_type": "markdown",
   "id": "e7ca0a3f",
   "metadata": {},
   "source": [
    "### 2. read data"
   ]
  },
  {
   "cell_type": "code",
   "execution_count": 4,
   "id": "aa1bfc67-131b-4aca-bdba-2c1c82c2d625",
   "metadata": {},
   "outputs": [],
   "source": [
    "import ast\n",
    "# Read all lines into a list\n",
    "with open('data.json') as f:\n",
    "    content = f.readlines()\n",
    "\n",
    "# Convert each list item to a dict\n",
    "content = [ ast.literal_eval( line ) for line in content ]"
   ]
  },
  {
   "cell_type": "code",
   "execution_count": 5,
   "id": "582cd1a3-71e4-455c-8b8e-b3f420f99fad",
   "metadata": {
    "tags": []
   },
   "outputs": [],
   "source": [
    "df = pd.DataFrame(content)"
   ]
  },
  {
   "cell_type": "code",
   "execution_count": 6,
   "id": "4c183f74-399b-4302-bb01-c5f25a00a382",
   "metadata": {},
   "outputs": [],
   "source": [
    "df=df.fillna(0)\n",
    "df['date']=pd.to_datetime(df['date']).dt.date"
   ]
  },
  {
   "cell_type": "code",
   "execution_count": 7,
   "id": "82d8d555-02cb-48bb-a9f3-c041231602b4",
   "metadata": {},
   "outputs": [],
   "source": [
    "df['year-month']=df['date'].apply(lambda x: str(x.year) + '-' + str(x.month))"
   ]
  },
  {
   "cell_type": "code",
   "execution_count": 7,
   "id": "df16e8bf-fa49-4067-9621-921977e826fa",
   "metadata": {},
   "outputs": [
    {
     "name": "stdout",
     "output_type": "stream",
     "text": [
      "<class 'pandas.core.frame.DataFrame'>\n",
      "RangeIndex: 40740 entries, 0 to 40739\n",
      "Data columns (total 15 columns):\n",
      " #   Column                               Non-Null Count  Dtype  \n",
      "---  ------                               --------------  -----  \n",
      " 0   date                                 40740 non-null  object \n",
      " 1   location                             40740 non-null  object \n",
      " 2   total_vaccinations                   40740 non-null  float64\n",
      " 3   total_distributed                    40740 non-null  float64\n",
      " 4   people_vaccinated                    40740 non-null  float64\n",
      " 5   people_fully_vaccinated_per_hundred  40740 non-null  object \n",
      " 6   total_vaccinations_per_hundred       40740 non-null  object \n",
      " 7   people_fully_vaccinated              40740 non-null  float64\n",
      " 8   eople_vaccinated_per_hundred         40740 non-null  object \n",
      " 9   distributed_per_hundred              40740 non-null  object \n",
      " 10  share_doses_used                     40740 non-null  object \n",
      " 11  daily_vaccinations_raw               40740 non-null  float64\n",
      " 12  daily_vaccinations                   40740 non-null  float64\n",
      " 13  daily_vaccinations_per_million       40740 non-null  object \n",
      " 14  year-month                           40740 non-null  object \n",
      "dtypes: float64(6), object(9)\n",
      "memory usage: 4.7+ MB\n"
     ]
    }
   ],
   "source": [
    "df.info()"
   ]
  },
  {
   "cell_type": "code",
   "execution_count": 12,
   "id": "93a27882",
   "metadata": {
    "scrolled": true
   },
   "outputs": [
    {
     "data": {
      "text/html": [
       "<div>\n",
       "<style scoped>\n",
       "    .dataframe tbody tr th:only-of-type {\n",
       "        vertical-align: middle;\n",
       "    }\n",
       "\n",
       "    .dataframe tbody tr th {\n",
       "        vertical-align: top;\n",
       "    }\n",
       "\n",
       "    .dataframe thead th {\n",
       "        text-align: right;\n",
       "    }\n",
       "</style>\n",
       "<table border=\"1\" class=\"dataframe\">\n",
       "  <thead>\n",
       "    <tr style=\"text-align: right;\">\n",
       "      <th></th>\n",
       "      <th>date</th>\n",
       "      <th>location</th>\n",
       "      <th>total_vaccinations</th>\n",
       "      <th>total_distributed</th>\n",
       "      <th>people_vaccinated</th>\n",
       "      <th>people_fully_vaccinated_per_hundred</th>\n",
       "      <th>total_vaccinations_per_hundred</th>\n",
       "      <th>people_fully_vaccinated</th>\n",
       "      <th>eople_vaccinated_per_hundred</th>\n",
       "      <th>distributed_per_hundred</th>\n",
       "      <th>share_doses_used</th>\n",
       "      <th>daily_vaccinations_raw</th>\n",
       "      <th>daily_vaccinations</th>\n",
       "      <th>daily_vaccinations_per_million</th>\n",
       "      <th>year-month</th>\n",
       "      <th>nbr_dose_per_person</th>\n",
       "    </tr>\n",
       "  </thead>\n",
       "  <tbody>\n",
       "    <tr>\n",
       "      <th>0</th>\n",
       "      <td>2021-01-12</td>\n",
       "      <td>Alabama</td>\n",
       "      <td>78134.0</td>\n",
       "      <td>377025.0</td>\n",
       "      <td>70861.0</td>\n",
       "      <td>0.15</td>\n",
       "      <td>1.59</td>\n",
       "      <td>7270.0</td>\n",
       "      <td>1.45</td>\n",
       "      <td>7.69</td>\n",
       "      <td>0.207</td>\n",
       "      <td>0.0</td>\n",
       "      <td>0.0</td>\n",
       "      <td>0</td>\n",
       "      <td>2021-1</td>\n",
       "      <td>1.10</td>\n",
       "    </tr>\n",
       "    <tr>\n",
       "      <th>1</th>\n",
       "      <td>2021-01-13</td>\n",
       "      <td>Alabama</td>\n",
       "      <td>84040.0</td>\n",
       "      <td>378975.0</td>\n",
       "      <td>74792.0</td>\n",
       "      <td>0.19</td>\n",
       "      <td>1.71</td>\n",
       "      <td>9245.0</td>\n",
       "      <td>1.53</td>\n",
       "      <td>7.73</td>\n",
       "      <td>0.222</td>\n",
       "      <td>5906.0</td>\n",
       "      <td>5906.0</td>\n",
       "      <td>1205.0</td>\n",
       "      <td>2021-1</td>\n",
       "      <td>1.12</td>\n",
       "    </tr>\n",
       "    <tr>\n",
       "      <th>2</th>\n",
       "      <td>2021-01-14</td>\n",
       "      <td>Alabama</td>\n",
       "      <td>92300.0</td>\n",
       "      <td>435350.0</td>\n",
       "      <td>80480.0</td>\n",
       "      <td>0</td>\n",
       "      <td>1.88</td>\n",
       "      <td>0.0</td>\n",
       "      <td>1.64</td>\n",
       "      <td>8.88</td>\n",
       "      <td>0.212</td>\n",
       "      <td>8260.0</td>\n",
       "      <td>7083.0</td>\n",
       "      <td>1445.0</td>\n",
       "      <td>2021-1</td>\n",
       "      <td>1.15</td>\n",
       "    </tr>\n",
       "    <tr>\n",
       "      <th>3</th>\n",
       "      <td>2021-01-15</td>\n",
       "      <td>Alabama</td>\n",
       "      <td>100567.0</td>\n",
       "      <td>444650.0</td>\n",
       "      <td>86956.0</td>\n",
       "      <td>0.28</td>\n",
       "      <td>2.05</td>\n",
       "      <td>13488.0</td>\n",
       "      <td>1.77</td>\n",
       "      <td>9.07</td>\n",
       "      <td>0.226</td>\n",
       "      <td>8267.0</td>\n",
       "      <td>7478.0</td>\n",
       "      <td>1525.0</td>\n",
       "      <td>2021-1</td>\n",
       "      <td>1.16</td>\n",
       "    </tr>\n",
       "    <tr>\n",
       "      <th>4</th>\n",
       "      <td>2021-01-16</td>\n",
       "      <td>Alabama</td>\n",
       "      <td>0.0</td>\n",
       "      <td>0.0</td>\n",
       "      <td>0.0</td>\n",
       "      <td>0</td>\n",
       "      <td>0</td>\n",
       "      <td>0.0</td>\n",
       "      <td>0</td>\n",
       "      <td>0</td>\n",
       "      <td>0</td>\n",
       "      <td>0.0</td>\n",
       "      <td>7498.0</td>\n",
       "      <td>1529.0</td>\n",
       "      <td>2021-1</td>\n",
       "      <td>NaN</td>\n",
       "    </tr>\n",
       "    <tr>\n",
       "      <th>5</th>\n",
       "      <td>2021-01-17</td>\n",
       "      <td>Alabama</td>\n",
       "      <td>0.0</td>\n",
       "      <td>0.0</td>\n",
       "      <td>0.0</td>\n",
       "      <td>0</td>\n",
       "      <td>0</td>\n",
       "      <td>0.0</td>\n",
       "      <td>0</td>\n",
       "      <td>0</td>\n",
       "      <td>0</td>\n",
       "      <td>0.0</td>\n",
       "      <td>7509.0</td>\n",
       "      <td>1531.0</td>\n",
       "      <td>2021-1</td>\n",
       "      <td>NaN</td>\n",
       "    </tr>\n",
       "    <tr>\n",
       "      <th>6</th>\n",
       "      <td>2021-01-18</td>\n",
       "      <td>Alabama</td>\n",
       "      <td>0.0</td>\n",
       "      <td>0.0</td>\n",
       "      <td>0.0</td>\n",
       "      <td>0</td>\n",
       "      <td>0</td>\n",
       "      <td>0.0</td>\n",
       "      <td>0</td>\n",
       "      <td>0</td>\n",
       "      <td>0</td>\n",
       "      <td>0.0</td>\n",
       "      <td>7517.0</td>\n",
       "      <td>1533.0</td>\n",
       "      <td>2021-1</td>\n",
       "      <td>NaN</td>\n",
       "    </tr>\n",
       "    <tr>\n",
       "      <th>7</th>\n",
       "      <td>2021-01-19</td>\n",
       "      <td>Alabama</td>\n",
       "      <td>130795.0</td>\n",
       "      <td>444650.0</td>\n",
       "      <td>114319.0</td>\n",
       "      <td>0.33</td>\n",
       "      <td>2.67</td>\n",
       "      <td>16346.0</td>\n",
       "      <td>2.33</td>\n",
       "      <td>9.07</td>\n",
       "      <td>0.294</td>\n",
       "      <td>0.0</td>\n",
       "      <td>7523.0</td>\n",
       "      <td>1534.0</td>\n",
       "      <td>2021-1</td>\n",
       "      <td>1.14</td>\n",
       "    </tr>\n",
       "    <tr>\n",
       "      <th>8</th>\n",
       "      <td>2021-01-20</td>\n",
       "      <td>Alabama</td>\n",
       "      <td>139200.0</td>\n",
       "      <td>483275.0</td>\n",
       "      <td>121113.0</td>\n",
       "      <td>0.37</td>\n",
       "      <td>2.84</td>\n",
       "      <td>17956.0</td>\n",
       "      <td>2.47</td>\n",
       "      <td>9.86</td>\n",
       "      <td>0.288</td>\n",
       "      <td>8405.0</td>\n",
       "      <td>7880.0</td>\n",
       "      <td>1607.0</td>\n",
       "      <td>2021-1</td>\n",
       "      <td>1.15</td>\n",
       "    </tr>\n",
       "    <tr>\n",
       "      <th>9</th>\n",
       "      <td>2021-01-21</td>\n",
       "      <td>Alabama</td>\n",
       "      <td>165919.0</td>\n",
       "      <td>493125.0</td>\n",
       "      <td>144429.0</td>\n",
       "      <td>0.44</td>\n",
       "      <td>3.38</td>\n",
       "      <td>21345.0</td>\n",
       "      <td>2.95</td>\n",
       "      <td>10.06</td>\n",
       "      <td>0.336</td>\n",
       "      <td>26719.0</td>\n",
       "      <td>10517.0</td>\n",
       "      <td>2145.0</td>\n",
       "      <td>2021-1</td>\n",
       "      <td>1.15</td>\n",
       "    </tr>\n",
       "    <tr>\n",
       "      <th>10</th>\n",
       "      <td>2021-01-22</td>\n",
       "      <td>Alabama</td>\n",
       "      <td>199314.0</td>\n",
       "      <td>519525.0</td>\n",
       "      <td>174317.0</td>\n",
       "      <td>0.51</td>\n",
       "      <td>4.06</td>\n",
       "      <td>24840.0</td>\n",
       "      <td>3.56</td>\n",
       "      <td>10.6</td>\n",
       "      <td>0.384</td>\n",
       "      <td>33395.0</td>\n",
       "      <td>14107.0</td>\n",
       "      <td>2877.0</td>\n",
       "      <td>2021-1</td>\n",
       "      <td>1.14</td>\n",
       "    </tr>\n",
       "    <tr>\n",
       "      <th>11</th>\n",
       "      <td>2021-01-23</td>\n",
       "      <td>Alabama</td>\n",
       "      <td>221540.0</td>\n",
       "      <td>521225.0</td>\n",
       "      <td>193955.0</td>\n",
       "      <td>0.56</td>\n",
       "      <td>4.52</td>\n",
       "      <td>27422.0</td>\n",
       "      <td>3.96</td>\n",
       "      <td>10.63</td>\n",
       "      <td>0.425</td>\n",
       "      <td>22226.0</td>\n",
       "      <td>16202.0</td>\n",
       "      <td>3304.0</td>\n",
       "      <td>2021-1</td>\n",
       "      <td>1.14</td>\n",
       "    </tr>\n",
       "    <tr>\n",
       "      <th>12</th>\n",
       "      <td>2021-01-24</td>\n",
       "      <td>Alabama</td>\n",
       "      <td>243737.0</td>\n",
       "      <td>521225.0</td>\n",
       "      <td>213833.0</td>\n",
       "      <td>0.61</td>\n",
       "      <td>4.97</td>\n",
       "      <td>29736.0</td>\n",
       "      <td>4.36</td>\n",
       "      <td>10.63</td>\n",
       "      <td>0.468</td>\n",
       "      <td>22197.0</td>\n",
       "      <td>18294.0</td>\n",
       "      <td>3731.0</td>\n",
       "      <td>2021-1</td>\n",
       "      <td>1.14</td>\n",
       "    </tr>\n",
       "    <tr>\n",
       "      <th>13</th>\n",
       "      <td>2021-01-25</td>\n",
       "      <td>Alabama</td>\n",
       "      <td>250612.0</td>\n",
       "      <td>521225.0</td>\n",
       "      <td>220464.0</td>\n",
       "      <td>0.61</td>\n",
       "      <td>5.11</td>\n",
       "      <td>29978.0</td>\n",
       "      <td>4.5</td>\n",
       "      <td>10.63</td>\n",
       "      <td>0.481</td>\n",
       "      <td>6875.0</td>\n",
       "      <td>18196.0</td>\n",
       "      <td>3711.0</td>\n",
       "      <td>2021-1</td>\n",
       "      <td>1.14</td>\n",
       "    </tr>\n",
       "    <tr>\n",
       "      <th>14</th>\n",
       "      <td>2021-01-26</td>\n",
       "      <td>Alabama</td>\n",
       "      <td>254959.0</td>\n",
       "      <td>569000.0</td>\n",
       "      <td>223854.0</td>\n",
       "      <td>0.63</td>\n",
       "      <td>5.2</td>\n",
       "      <td>30933.0</td>\n",
       "      <td>4.57</td>\n",
       "      <td>11.6</td>\n",
       "      <td>0.448</td>\n",
       "      <td>4347.0</td>\n",
       "      <td>17738.0</td>\n",
       "      <td>3618.0</td>\n",
       "      <td>2021-1</td>\n",
       "      <td>1.14</td>\n",
       "    </tr>\n",
       "    <tr>\n",
       "      <th>15</th>\n",
       "      <td>2021-01-27</td>\n",
       "      <td>Alabama</td>\n",
       "      <td>266444.0</td>\n",
       "      <td>634000.0</td>\n",
       "      <td>232633.0</td>\n",
       "      <td>0.69</td>\n",
       "      <td>5.43</td>\n",
       "      <td>33595.0</td>\n",
       "      <td>4.74</td>\n",
       "      <td>12.93</td>\n",
       "      <td>0.42</td>\n",
       "      <td>11485.0</td>\n",
       "      <td>18178.0</td>\n",
       "      <td>3707.0</td>\n",
       "      <td>2021-1</td>\n",
       "      <td>1.15</td>\n",
       "    </tr>\n",
       "    <tr>\n",
       "      <th>16</th>\n",
       "      <td>2021-01-28</td>\n",
       "      <td>Alabama</td>\n",
       "      <td>278993.0</td>\n",
       "      <td>655275.0</td>\n",
       "      <td>241337.0</td>\n",
       "      <td>0.76</td>\n",
       "      <td>5.69</td>\n",
       "      <td>37431.0</td>\n",
       "      <td>4.92</td>\n",
       "      <td>13.36</td>\n",
       "      <td>0.426</td>\n",
       "      <td>12549.0</td>\n",
       "      <td>16153.0</td>\n",
       "      <td>3294.0</td>\n",
       "      <td>2021-1</td>\n",
       "      <td>1.16</td>\n",
       "    </tr>\n",
       "    <tr>\n",
       "      <th>17</th>\n",
       "      <td>2021-01-29</td>\n",
       "      <td>Alabama</td>\n",
       "      <td>300915.0</td>\n",
       "      <td>659400.0</td>\n",
       "      <td>256601.0</td>\n",
       "      <td>0.9</td>\n",
       "      <td>6.14</td>\n",
       "      <td>44073.0</td>\n",
       "      <td>5.23</td>\n",
       "      <td>13.45</td>\n",
       "      <td>0.456</td>\n",
       "      <td>21922.0</td>\n",
       "      <td>14514.0</td>\n",
       "      <td>2960.0</td>\n",
       "      <td>2021-1</td>\n",
       "      <td>1.17</td>\n",
       "    </tr>\n",
       "    <tr>\n",
       "      <th>18</th>\n",
       "      <td>2021-01-30</td>\n",
       "      <td>Alabama</td>\n",
       "      <td>342436.0</td>\n",
       "      <td>659400.0</td>\n",
       "      <td>288368.0</td>\n",
       "      <td>1.1</td>\n",
       "      <td>6.98</td>\n",
       "      <td>53742.0</td>\n",
       "      <td>5.88</td>\n",
       "      <td>13.45</td>\n",
       "      <td>0.519</td>\n",
       "      <td>41521.0</td>\n",
       "      <td>17271.0</td>\n",
       "      <td>3522.0</td>\n",
       "      <td>2021-1</td>\n",
       "      <td>1.19</td>\n",
       "    </tr>\n",
       "    <tr>\n",
       "      <th>19</th>\n",
       "      <td>2021-01-31</td>\n",
       "      <td>Alabama</td>\n",
       "      <td>353974.0</td>\n",
       "      <td>659400.0</td>\n",
       "      <td>298301.0</td>\n",
       "      <td>1.13</td>\n",
       "      <td>7.22</td>\n",
       "      <td>55331.0</td>\n",
       "      <td>6.08</td>\n",
       "      <td>13.45</td>\n",
       "      <td>0.537</td>\n",
       "      <td>11538.0</td>\n",
       "      <td>15748.0</td>\n",
       "      <td>3212.0</td>\n",
       "      <td>2021-1</td>\n",
       "      <td>1.19</td>\n",
       "    </tr>\n",
       "  </tbody>\n",
       "</table>\n",
       "</div>"
      ],
      "text/plain": [
       "          date location  total_vaccinations  total_distributed  \\\n",
       "0   2021-01-12  Alabama             78134.0           377025.0   \n",
       "1   2021-01-13  Alabama             84040.0           378975.0   \n",
       "2   2021-01-14  Alabama             92300.0           435350.0   \n",
       "3   2021-01-15  Alabama            100567.0           444650.0   \n",
       "4   2021-01-16  Alabama                 0.0                0.0   \n",
       "5   2021-01-17  Alabama                 0.0                0.0   \n",
       "6   2021-01-18  Alabama                 0.0                0.0   \n",
       "7   2021-01-19  Alabama            130795.0           444650.0   \n",
       "8   2021-01-20  Alabama            139200.0           483275.0   \n",
       "9   2021-01-21  Alabama            165919.0           493125.0   \n",
       "10  2021-01-22  Alabama            199314.0           519525.0   \n",
       "11  2021-01-23  Alabama            221540.0           521225.0   \n",
       "12  2021-01-24  Alabama            243737.0           521225.0   \n",
       "13  2021-01-25  Alabama            250612.0           521225.0   \n",
       "14  2021-01-26  Alabama            254959.0           569000.0   \n",
       "15  2021-01-27  Alabama            266444.0           634000.0   \n",
       "16  2021-01-28  Alabama            278993.0           655275.0   \n",
       "17  2021-01-29  Alabama            300915.0           659400.0   \n",
       "18  2021-01-30  Alabama            342436.0           659400.0   \n",
       "19  2021-01-31  Alabama            353974.0           659400.0   \n",
       "\n",
       "    people_vaccinated people_fully_vaccinated_per_hundred  \\\n",
       "0             70861.0                                0.15   \n",
       "1             74792.0                                0.19   \n",
       "2             80480.0                                   0   \n",
       "3             86956.0                                0.28   \n",
       "4                 0.0                                   0   \n",
       "5                 0.0                                   0   \n",
       "6                 0.0                                   0   \n",
       "7            114319.0                                0.33   \n",
       "8            121113.0                                0.37   \n",
       "9            144429.0                                0.44   \n",
       "10           174317.0                                0.51   \n",
       "11           193955.0                                0.56   \n",
       "12           213833.0                                0.61   \n",
       "13           220464.0                                0.61   \n",
       "14           223854.0                                0.63   \n",
       "15           232633.0                                0.69   \n",
       "16           241337.0                                0.76   \n",
       "17           256601.0                                 0.9   \n",
       "18           288368.0                                 1.1   \n",
       "19           298301.0                                1.13   \n",
       "\n",
       "   total_vaccinations_per_hundred  people_fully_vaccinated  \\\n",
       "0                            1.59                   7270.0   \n",
       "1                            1.71                   9245.0   \n",
       "2                            1.88                      0.0   \n",
       "3                            2.05                  13488.0   \n",
       "4                               0                      0.0   \n",
       "5                               0                      0.0   \n",
       "6                               0                      0.0   \n",
       "7                            2.67                  16346.0   \n",
       "8                            2.84                  17956.0   \n",
       "9                            3.38                  21345.0   \n",
       "10                           4.06                  24840.0   \n",
       "11                           4.52                  27422.0   \n",
       "12                           4.97                  29736.0   \n",
       "13                           5.11                  29978.0   \n",
       "14                            5.2                  30933.0   \n",
       "15                           5.43                  33595.0   \n",
       "16                           5.69                  37431.0   \n",
       "17                           6.14                  44073.0   \n",
       "18                           6.98                  53742.0   \n",
       "19                           7.22                  55331.0   \n",
       "\n",
       "   eople_vaccinated_per_hundred distributed_per_hundred share_doses_used  \\\n",
       "0                          1.45                    7.69            0.207   \n",
       "1                          1.53                    7.73            0.222   \n",
       "2                          1.64                    8.88            0.212   \n",
       "3                          1.77                    9.07            0.226   \n",
       "4                             0                       0                0   \n",
       "5                             0                       0                0   \n",
       "6                             0                       0                0   \n",
       "7                          2.33                    9.07            0.294   \n",
       "8                          2.47                    9.86            0.288   \n",
       "9                          2.95                   10.06            0.336   \n",
       "10                         3.56                    10.6            0.384   \n",
       "11                         3.96                   10.63            0.425   \n",
       "12                         4.36                   10.63            0.468   \n",
       "13                          4.5                   10.63            0.481   \n",
       "14                         4.57                    11.6            0.448   \n",
       "15                         4.74                   12.93             0.42   \n",
       "16                         4.92                   13.36            0.426   \n",
       "17                         5.23                   13.45            0.456   \n",
       "18                         5.88                   13.45            0.519   \n",
       "19                         6.08                   13.45            0.537   \n",
       "\n",
       "    daily_vaccinations_raw  daily_vaccinations daily_vaccinations_per_million  \\\n",
       "0                      0.0                 0.0                              0   \n",
       "1                   5906.0              5906.0                         1205.0   \n",
       "2                   8260.0              7083.0                         1445.0   \n",
       "3                   8267.0              7478.0                         1525.0   \n",
       "4                      0.0              7498.0                         1529.0   \n",
       "5                      0.0              7509.0                         1531.0   \n",
       "6                      0.0              7517.0                         1533.0   \n",
       "7                      0.0              7523.0                         1534.0   \n",
       "8                   8405.0              7880.0                         1607.0   \n",
       "9                  26719.0             10517.0                         2145.0   \n",
       "10                 33395.0             14107.0                         2877.0   \n",
       "11                 22226.0             16202.0                         3304.0   \n",
       "12                 22197.0             18294.0                         3731.0   \n",
       "13                  6875.0             18196.0                         3711.0   \n",
       "14                  4347.0             17738.0                         3618.0   \n",
       "15                 11485.0             18178.0                         3707.0   \n",
       "16                 12549.0             16153.0                         3294.0   \n",
       "17                 21922.0             14514.0                         2960.0   \n",
       "18                 41521.0             17271.0                         3522.0   \n",
       "19                 11538.0             15748.0                         3212.0   \n",
       "\n",
       "   year-month  nbr_dose_per_person  \n",
       "0      2021-1                 1.10  \n",
       "1      2021-1                 1.12  \n",
       "2      2021-1                 1.15  \n",
       "3      2021-1                 1.16  \n",
       "4      2021-1                  NaN  \n",
       "5      2021-1                  NaN  \n",
       "6      2021-1                  NaN  \n",
       "7      2021-1                 1.14  \n",
       "8      2021-1                 1.15  \n",
       "9      2021-1                 1.15  \n",
       "10     2021-1                 1.14  \n",
       "11     2021-1                 1.14  \n",
       "12     2021-1                 1.14  \n",
       "13     2021-1                 1.14  \n",
       "14     2021-1                 1.14  \n",
       "15     2021-1                 1.15  \n",
       "16     2021-1                 1.16  \n",
       "17     2021-1                 1.17  \n",
       "18     2021-1                 1.19  \n",
       "19     2021-1                 1.19  "
      ]
     },
     "execution_count": 12,
     "metadata": {},
     "output_type": "execute_result"
    }
   ],
   "source": [
    "df.head(20)"
   ]
  },
  {
   "cell_type": "markdown",
   "id": "1e444fc2",
   "metadata": {},
   "source": [
    "### 3. create metrics - nbr_dose_per_person"
   ]
  },
  {
   "cell_type": "code",
   "execution_count": 8,
   "id": "20a9858f-e21c-485d-9d1e-0f8fcdaa58bd",
   "metadata": {
    "scrolled": true
   },
   "outputs": [],
   "source": [
    "df['nbr_dose_per_person']=df['total_vaccinations']/df['people_vaccinated']\n",
    "df['nbr_dose_per_person']=df['nbr_dose_per_person'].astype(float).round(2)\n",
    "df[df['date'].astype(str)=='2022-10-05'][['location','nbr_dose_per_person']].sort_values('nbr_dose_per_person',ascending=False)\n",
    "df_bystate=df[df['date'].astype(str)=='2022-10-05'][['location','nbr_dose_per_person']].sort_values('nbr_dose_per_person',ascending=False)"
   ]
  },
  {
   "cell_type": "code",
   "execution_count": 15,
   "id": "03be53f2",
   "metadata": {
    "scrolled": true
   },
   "outputs": [
    {
     "data": {
      "text/html": [
       "<div>\n",
       "<style scoped>\n",
       "    .dataframe tbody tr th:only-of-type {\n",
       "        vertical-align: middle;\n",
       "    }\n",
       "\n",
       "    .dataframe tbody tr th {\n",
       "        vertical-align: top;\n",
       "    }\n",
       "\n",
       "    .dataframe thead th {\n",
       "        text-align: right;\n",
       "    }\n",
       "</style>\n",
       "<table border=\"1\" class=\"dataframe\">\n",
       "  <thead>\n",
       "    <tr style=\"text-align: right;\">\n",
       "      <th></th>\n",
       "      <th>location</th>\n",
       "      <th>nbr_dose_per_person</th>\n",
       "    </tr>\n",
       "  </thead>\n",
       "  <tbody>\n",
       "    <tr>\n",
       "      <th>19860</th>\n",
       "      <td>Minnesota</td>\n",
       "      <td>2.63</td>\n",
       "    </tr>\n",
       "    <tr>\n",
       "      <th>40107</th>\n",
       "      <td>Wisconsin</td>\n",
       "      <td>2.62</td>\n",
       "    </tr>\n",
       "    <tr>\n",
       "      <th>36315</th>\n",
       "      <td>Vermont</td>\n",
       "      <td>2.60</td>\n",
       "    </tr>\n",
       "    <tr>\n",
       "      <th>28076</th>\n",
       "      <td>Ohio</td>\n",
       "      <td>2.56</td>\n",
       "    </tr>\n",
       "    <tr>\n",
       "      <th>10743</th>\n",
       "      <td>Hawaii</td>\n",
       "      <td>2.55</td>\n",
       "    </tr>\n",
       "    <tr>\n",
       "      <th>...</th>\n",
       "      <td>...</td>\n",
       "      <td>...</td>\n",
       "    </tr>\n",
       "    <tr>\n",
       "      <th>12639</th>\n",
       "      <td>Indian Health Svc</td>\n",
       "      <td>2.11</td>\n",
       "    </tr>\n",
       "    <tr>\n",
       "      <th>631</th>\n",
       "      <td>Alabama</td>\n",
       "      <td>2.11</td>\n",
       "    </tr>\n",
       "    <tr>\n",
       "      <th>37579</th>\n",
       "      <td>Virgin Islands</td>\n",
       "      <td>2.08</td>\n",
       "    </tr>\n",
       "    <tr>\n",
       "      <th>6951</th>\n",
       "      <td>Dept of Defense</td>\n",
       "      <td>1.96</td>\n",
       "    </tr>\n",
       "    <tr>\n",
       "      <th>26180</th>\n",
       "      <td>North Carolina</td>\n",
       "      <td>1.95</td>\n",
       "    </tr>\n",
       "  </tbody>\n",
       "</table>\n",
       "<p>64 rows × 2 columns</p>\n",
       "</div>"
      ],
      "text/plain": [
       "                location  nbr_dose_per_person\n",
       "19860          Minnesota                 2.63\n",
       "40107          Wisconsin                 2.62\n",
       "36315            Vermont                 2.60\n",
       "28076               Ohio                 2.56\n",
       "10743             Hawaii                 2.55\n",
       "...                  ...                  ...\n",
       "12639  Indian Health Svc                 2.11\n",
       "631              Alabama                 2.11\n",
       "37579     Virgin Islands                 2.08\n",
       "6951     Dept of Defense                 1.96\n",
       "26180     North Carolina                 1.95\n",
       "\n",
       "[64 rows x 2 columns]"
      ]
     },
     "execution_count": 15,
     "metadata": {},
     "output_type": "execute_result"
    }
   ],
   "source": [
    "df_bystate"
   ]
  },
  {
   "cell_type": "markdown",
   "id": "6f01f64c",
   "metadata": {},
   "source": [
    "### 4. replace state full name with state abbreviations"
   ]
  },
  {
   "cell_type": "code",
   "execution_count": 9,
   "id": "17483698",
   "metadata": {},
   "outputs": [],
   "source": [
    "states = {\n",
    "    'Alaska': 'AK',\n",
    "    'Alabama': 'AL',\n",
    "    'Arkansas': 'AR',\n",
    "    'Arizona': 'AZ',\n",
    "    'California': 'CA',\n",
    "    'Colorado': 'CO',\n",
    "    'Connecticut': 'CT',\n",
    "    'District of Columbia': 'DC',\n",
    "    'Delaware': 'DE',\n",
    "    'Florida': 'FL',\n",
    "    'Georgia': 'GA',\n",
    "    'Hawaii': 'HI',\n",
    "    'Iowa': 'IA',\n",
    "    'Idaho': 'ID',\n",
    "    'Illinois': 'IL',\n",
    "    'Indiana': 'IN',\n",
    "    'Kansas': 'KS',\n",
    "    'Kentucky': 'KY',\n",
    "    'Louisiana': 'LA',\n",
    "    'Massachusetts': 'MA',\n",
    "    'Maryland': 'MD',\n",
    "    'Maine': 'ME',\n",
    "    'Michigan': 'MI',\n",
    "    'Minnesota': 'MN',\n",
    "    'Missouri': 'MO',\n",
    "    'Mississippi': 'MS',\n",
    "    'Montana': 'MT',\n",
    "    'North Carolina': 'NC',\n",
    "    'North Dakota': 'ND',\n",
    "    'Nebraska': 'NE',\n",
    "    'New Hampshire': 'NH',\n",
    "    'New Jersey': 'NJ',\n",
    "    'New Mexico': 'NM',\n",
    "    'Nevada': 'NV',\n",
    "    'New York State': 'NY', #updated full name from 'New York' to 'New York State'\n",
    "    'Ohio': 'OH',\n",
    "    'Oklahoma': 'OK',\n",
    "    'Oregon': 'OR',\n",
    "    'Pennsylvania': 'PA',\n",
    "    'Rhode Island': 'RI',\n",
    "    'South Carolina': 'SC',\n",
    "    'South Dakota': 'SD',\n",
    "    'Tennessee': 'TN',\n",
    "    'Texas': 'TX',\n",
    "    'Utah': 'UT', \n",
    "    'Virginia': 'VA',\n",
    "    'Vermont': 'VT', \n",
    "    'Washington': 'WA',\n",
    "    'Wisconsin': 'WI',\n",
    "    'West Virginia': 'WV',\n",
    "    'Wyoming': 'WY'\n",
    "}"
   ]
  },
  {
   "cell_type": "code",
   "execution_count": 10,
   "id": "62498d17",
   "metadata": {},
   "outputs": [],
   "source": [
    "df_bystate.location.replace(states, inplace=True)"
   ]
  },
  {
   "cell_type": "markdown",
   "id": "52fb25f2",
   "metadata": {},
   "source": [
    "# visualization"
   ]
  },
  {
   "cell_type": "markdown",
   "id": "b566a637",
   "metadata": {},
   "source": [
    "### plot nbr_dose_per_person as heat map \n",
    "(states in southeast relatively have low dose/person)"
   ]
  },
  {
   "cell_type": "code",
   "execution_count": 28,
   "id": "ea700f25",
   "metadata": {},
   "outputs": [],
   "source": [
    "# %matplotlib notebook\n",
    "%matplotlib inline"
   ]
  },
  {
   "cell_type": "code",
   "execution_count": 29,
   "id": "93e2999e",
   "metadata": {},
   "outputs": [
    {
     "data": {
      "application/vnd.plotly.v1+json": {
       "config": {
        "plotlyServerURL": "https://plot.ly"
       },
       "data": [
        {
         "coloraxis": "coloraxis",
         "geo": "geo",
         "hovertemplate": "<b>%{hovertext}</b><br><br>location=%{location}<br>nbr_dose_per_person=%{z}<extra></extra>",
         "hovertext": [
          "MN",
          "WI",
          "VT",
          "OH",
          "HI",
          "IA",
          "OR",
          "MI",
          "WA",
          "ME",
          "CO",
          "IL",
          "NE",
          "American Samoa",
          "Puerto Rico",
          "MD",
          "Northern Mariana Islands",
          "TN",
          "IN",
          "CA",
          "WV",
          "Guam",
          "Republic of Palau",
          "MT",
          "AZ",
          "UT",
          "VA",
          "DE",
          "ID",
          "United States",
          "AK",
          "CT",
          "NY",
          "MO",
          "ND",
          "WY",
          "MA",
          "KY",
          "DC",
          "LA",
          "FL",
          "NH",
          "KS",
          "MS",
          "TX",
          "SC",
          "NM",
          "GA",
          "NJ",
          "PA",
          "RI",
          "Veterans Health",
          "AR",
          "Bureau of Prisons",
          "NV",
          "Federated States of Micronesia",
          "OK",
          "SD",
          "Marshall Islands",
          "Indian Health Svc",
          "AL",
          "Virgin Islands",
          "Dept of Defense",
          "NC"
         ],
         "locationmode": "USA-states",
         "locations": [
          "MN",
          "WI",
          "VT",
          "OH",
          "HI",
          "IA",
          "OR",
          "MI",
          "WA",
          "ME",
          "CO",
          "IL",
          "NE",
          "American Samoa",
          "Puerto Rico",
          "MD",
          "Northern Mariana Islands",
          "TN",
          "IN",
          "CA",
          "WV",
          "Guam",
          "Republic of Palau",
          "MT",
          "AZ",
          "UT",
          "VA",
          "DE",
          "ID",
          "United States",
          "AK",
          "CT",
          "NY",
          "MO",
          "ND",
          "WY",
          "MA",
          "KY",
          "DC",
          "LA",
          "FL",
          "NH",
          "KS",
          "MS",
          "TX",
          "SC",
          "NM",
          "GA",
          "NJ",
          "PA",
          "RI",
          "Veterans Health",
          "AR",
          "Bureau of Prisons",
          "NV",
          "Federated States of Micronesia",
          "OK",
          "SD",
          "Marshall Islands",
          "Indian Health Svc",
          "AL",
          "Virgin Islands",
          "Dept of Defense",
          "NC"
         ],
         "name": "",
         "type": "choropleth",
         "z": [
          2.63,
          2.62,
          2.6,
          2.56,
          2.55,
          2.54,
          2.52,
          2.51,
          2.51,
          2.5,
          2.5,
          2.5,
          2.49,
          2.49,
          2.48,
          2.47,
          2.46,
          2.46,
          2.45,
          2.45,
          2.45,
          2.41,
          2.41,
          2.4,
          2.4,
          2.38,
          2.37,
          2.37,
          2.36,
          2.36,
          2.35,
          2.34,
          2.33,
          2.32,
          2.31,
          2.31,
          2.31,
          2.31,
          2.3,
          2.29,
          2.29,
          2.28,
          2.27,
          2.26,
          2.25,
          2.25,
          2.25,
          2.24,
          2.24,
          2.23,
          2.22,
          2.22,
          2.2,
          2.2,
          2.2,
          2.19,
          2.18,
          2.18,
          2.15,
          2.11,
          2.11,
          2.08,
          1.96,
          1.95
         ]
        }
       ],
       "layout": {
        "coloraxis": {
         "colorbar": {
          "title": {
           "text": "nbr_dose_per_person"
          }
         },
         "colorscale": [
          [
           0,
           "#0d0887"
          ],
          [
           0.1111111111111111,
           "#46039f"
          ],
          [
           0.2222222222222222,
           "#7201a8"
          ],
          [
           0.3333333333333333,
           "#9c179e"
          ],
          [
           0.4444444444444444,
           "#bd3786"
          ],
          [
           0.5555555555555556,
           "#d8576b"
          ],
          [
           0.6666666666666666,
           "#ed7953"
          ],
          [
           0.7777777777777778,
           "#fb9f3a"
          ],
          [
           0.8888888888888888,
           "#fdca26"
          ],
          [
           1,
           "#f0f921"
          ]
         ]
        },
        "geo": {
         "center": {},
         "domain": {
          "x": [
           0,
           1
          ],
          "y": [
           0,
           1
          ]
         },
         "scope": "usa"
        },
        "legend": {
         "tracegroupgap": 0
        },
        "margin": {
         "t": 60
        },
        "template": {
         "data": {
          "bar": [
           {
            "error_x": {
             "color": "#2a3f5f"
            },
            "error_y": {
             "color": "#2a3f5f"
            },
            "marker": {
             "line": {
              "color": "#E5ECF6",
              "width": 0.5
             },
             "pattern": {
              "fillmode": "overlay",
              "size": 10,
              "solidity": 0.2
             }
            },
            "type": "bar"
           }
          ],
          "barpolar": [
           {
            "marker": {
             "line": {
              "color": "#E5ECF6",
              "width": 0.5
             },
             "pattern": {
              "fillmode": "overlay",
              "size": 10,
              "solidity": 0.2
             }
            },
            "type": "barpolar"
           }
          ],
          "carpet": [
           {
            "aaxis": {
             "endlinecolor": "#2a3f5f",
             "gridcolor": "white",
             "linecolor": "white",
             "minorgridcolor": "white",
             "startlinecolor": "#2a3f5f"
            },
            "baxis": {
             "endlinecolor": "#2a3f5f",
             "gridcolor": "white",
             "linecolor": "white",
             "minorgridcolor": "white",
             "startlinecolor": "#2a3f5f"
            },
            "type": "carpet"
           }
          ],
          "choropleth": [
           {
            "colorbar": {
             "outlinewidth": 0,
             "ticks": ""
            },
            "type": "choropleth"
           }
          ],
          "contour": [
           {
            "colorbar": {
             "outlinewidth": 0,
             "ticks": ""
            },
            "colorscale": [
             [
              0,
              "#0d0887"
             ],
             [
              0.1111111111111111,
              "#46039f"
             ],
             [
              0.2222222222222222,
              "#7201a8"
             ],
             [
              0.3333333333333333,
              "#9c179e"
             ],
             [
              0.4444444444444444,
              "#bd3786"
             ],
             [
              0.5555555555555556,
              "#d8576b"
             ],
             [
              0.6666666666666666,
              "#ed7953"
             ],
             [
              0.7777777777777778,
              "#fb9f3a"
             ],
             [
              0.8888888888888888,
              "#fdca26"
             ],
             [
              1,
              "#f0f921"
             ]
            ],
            "type": "contour"
           }
          ],
          "contourcarpet": [
           {
            "colorbar": {
             "outlinewidth": 0,
             "ticks": ""
            },
            "type": "contourcarpet"
           }
          ],
          "heatmap": [
           {
            "colorbar": {
             "outlinewidth": 0,
             "ticks": ""
            },
            "colorscale": [
             [
              0,
              "#0d0887"
             ],
             [
              0.1111111111111111,
              "#46039f"
             ],
             [
              0.2222222222222222,
              "#7201a8"
             ],
             [
              0.3333333333333333,
              "#9c179e"
             ],
             [
              0.4444444444444444,
              "#bd3786"
             ],
             [
              0.5555555555555556,
              "#d8576b"
             ],
             [
              0.6666666666666666,
              "#ed7953"
             ],
             [
              0.7777777777777778,
              "#fb9f3a"
             ],
             [
              0.8888888888888888,
              "#fdca26"
             ],
             [
              1,
              "#f0f921"
             ]
            ],
            "type": "heatmap"
           }
          ],
          "heatmapgl": [
           {
            "colorbar": {
             "outlinewidth": 0,
             "ticks": ""
            },
            "colorscale": [
             [
              0,
              "#0d0887"
             ],
             [
              0.1111111111111111,
              "#46039f"
             ],
             [
              0.2222222222222222,
              "#7201a8"
             ],
             [
              0.3333333333333333,
              "#9c179e"
             ],
             [
              0.4444444444444444,
              "#bd3786"
             ],
             [
              0.5555555555555556,
              "#d8576b"
             ],
             [
              0.6666666666666666,
              "#ed7953"
             ],
             [
              0.7777777777777778,
              "#fb9f3a"
             ],
             [
              0.8888888888888888,
              "#fdca26"
             ],
             [
              1,
              "#f0f921"
             ]
            ],
            "type": "heatmapgl"
           }
          ],
          "histogram": [
           {
            "marker": {
             "pattern": {
              "fillmode": "overlay",
              "size": 10,
              "solidity": 0.2
             }
            },
            "type": "histogram"
           }
          ],
          "histogram2d": [
           {
            "colorbar": {
             "outlinewidth": 0,
             "ticks": ""
            },
            "colorscale": [
             [
              0,
              "#0d0887"
             ],
             [
              0.1111111111111111,
              "#46039f"
             ],
             [
              0.2222222222222222,
              "#7201a8"
             ],
             [
              0.3333333333333333,
              "#9c179e"
             ],
             [
              0.4444444444444444,
              "#bd3786"
             ],
             [
              0.5555555555555556,
              "#d8576b"
             ],
             [
              0.6666666666666666,
              "#ed7953"
             ],
             [
              0.7777777777777778,
              "#fb9f3a"
             ],
             [
              0.8888888888888888,
              "#fdca26"
             ],
             [
              1,
              "#f0f921"
             ]
            ],
            "type": "histogram2d"
           }
          ],
          "histogram2dcontour": [
           {
            "colorbar": {
             "outlinewidth": 0,
             "ticks": ""
            },
            "colorscale": [
             [
              0,
              "#0d0887"
             ],
             [
              0.1111111111111111,
              "#46039f"
             ],
             [
              0.2222222222222222,
              "#7201a8"
             ],
             [
              0.3333333333333333,
              "#9c179e"
             ],
             [
              0.4444444444444444,
              "#bd3786"
             ],
             [
              0.5555555555555556,
              "#d8576b"
             ],
             [
              0.6666666666666666,
              "#ed7953"
             ],
             [
              0.7777777777777778,
              "#fb9f3a"
             ],
             [
              0.8888888888888888,
              "#fdca26"
             ],
             [
              1,
              "#f0f921"
             ]
            ],
            "type": "histogram2dcontour"
           }
          ],
          "mesh3d": [
           {
            "colorbar": {
             "outlinewidth": 0,
             "ticks": ""
            },
            "type": "mesh3d"
           }
          ],
          "parcoords": [
           {
            "line": {
             "colorbar": {
              "outlinewidth": 0,
              "ticks": ""
             }
            },
            "type": "parcoords"
           }
          ],
          "pie": [
           {
            "automargin": true,
            "type": "pie"
           }
          ],
          "scatter": [
           {
            "fillpattern": {
             "fillmode": "overlay",
             "size": 10,
             "solidity": 0.2
            },
            "type": "scatter"
           }
          ],
          "scatter3d": [
           {
            "line": {
             "colorbar": {
              "outlinewidth": 0,
              "ticks": ""
             }
            },
            "marker": {
             "colorbar": {
              "outlinewidth": 0,
              "ticks": ""
             }
            },
            "type": "scatter3d"
           }
          ],
          "scattercarpet": [
           {
            "marker": {
             "colorbar": {
              "outlinewidth": 0,
              "ticks": ""
             }
            },
            "type": "scattercarpet"
           }
          ],
          "scattergeo": [
           {
            "marker": {
             "colorbar": {
              "outlinewidth": 0,
              "ticks": ""
             }
            },
            "type": "scattergeo"
           }
          ],
          "scattergl": [
           {
            "marker": {
             "colorbar": {
              "outlinewidth": 0,
              "ticks": ""
             }
            },
            "type": "scattergl"
           }
          ],
          "scattermapbox": [
           {
            "marker": {
             "colorbar": {
              "outlinewidth": 0,
              "ticks": ""
             }
            },
            "type": "scattermapbox"
           }
          ],
          "scatterpolar": [
           {
            "marker": {
             "colorbar": {
              "outlinewidth": 0,
              "ticks": ""
             }
            },
            "type": "scatterpolar"
           }
          ],
          "scatterpolargl": [
           {
            "marker": {
             "colorbar": {
              "outlinewidth": 0,
              "ticks": ""
             }
            },
            "type": "scatterpolargl"
           }
          ],
          "scatterternary": [
           {
            "marker": {
             "colorbar": {
              "outlinewidth": 0,
              "ticks": ""
             }
            },
            "type": "scatterternary"
           }
          ],
          "surface": [
           {
            "colorbar": {
             "outlinewidth": 0,
             "ticks": ""
            },
            "colorscale": [
             [
              0,
              "#0d0887"
             ],
             [
              0.1111111111111111,
              "#46039f"
             ],
             [
              0.2222222222222222,
              "#7201a8"
             ],
             [
              0.3333333333333333,
              "#9c179e"
             ],
             [
              0.4444444444444444,
              "#bd3786"
             ],
             [
              0.5555555555555556,
              "#d8576b"
             ],
             [
              0.6666666666666666,
              "#ed7953"
             ],
             [
              0.7777777777777778,
              "#fb9f3a"
             ],
             [
              0.8888888888888888,
              "#fdca26"
             ],
             [
              1,
              "#f0f921"
             ]
            ],
            "type": "surface"
           }
          ],
          "table": [
           {
            "cells": {
             "fill": {
              "color": "#EBF0F8"
             },
             "line": {
              "color": "white"
             }
            },
            "header": {
             "fill": {
              "color": "#C8D4E3"
             },
             "line": {
              "color": "white"
             }
            },
            "type": "table"
           }
          ]
         },
         "layout": {
          "annotationdefaults": {
           "arrowcolor": "#2a3f5f",
           "arrowhead": 0,
           "arrowwidth": 1
          },
          "autotypenumbers": "strict",
          "coloraxis": {
           "colorbar": {
            "outlinewidth": 0,
            "ticks": ""
           }
          },
          "colorscale": {
           "diverging": [
            [
             0,
             "#8e0152"
            ],
            [
             0.1,
             "#c51b7d"
            ],
            [
             0.2,
             "#de77ae"
            ],
            [
             0.3,
             "#f1b6da"
            ],
            [
             0.4,
             "#fde0ef"
            ],
            [
             0.5,
             "#f7f7f7"
            ],
            [
             0.6,
             "#e6f5d0"
            ],
            [
             0.7,
             "#b8e186"
            ],
            [
             0.8,
             "#7fbc41"
            ],
            [
             0.9,
             "#4d9221"
            ],
            [
             1,
             "#276419"
            ]
           ],
           "sequential": [
            [
             0,
             "#0d0887"
            ],
            [
             0.1111111111111111,
             "#46039f"
            ],
            [
             0.2222222222222222,
             "#7201a8"
            ],
            [
             0.3333333333333333,
             "#9c179e"
            ],
            [
             0.4444444444444444,
             "#bd3786"
            ],
            [
             0.5555555555555556,
             "#d8576b"
            ],
            [
             0.6666666666666666,
             "#ed7953"
            ],
            [
             0.7777777777777778,
             "#fb9f3a"
            ],
            [
             0.8888888888888888,
             "#fdca26"
            ],
            [
             1,
             "#f0f921"
            ]
           ],
           "sequentialminus": [
            [
             0,
             "#0d0887"
            ],
            [
             0.1111111111111111,
             "#46039f"
            ],
            [
             0.2222222222222222,
             "#7201a8"
            ],
            [
             0.3333333333333333,
             "#9c179e"
            ],
            [
             0.4444444444444444,
             "#bd3786"
            ],
            [
             0.5555555555555556,
             "#d8576b"
            ],
            [
             0.6666666666666666,
             "#ed7953"
            ],
            [
             0.7777777777777778,
             "#fb9f3a"
            ],
            [
             0.8888888888888888,
             "#fdca26"
            ],
            [
             1,
             "#f0f921"
            ]
           ]
          },
          "colorway": [
           "#636efa",
           "#EF553B",
           "#00cc96",
           "#ab63fa",
           "#FFA15A",
           "#19d3f3",
           "#FF6692",
           "#B6E880",
           "#FF97FF",
           "#FECB52"
          ],
          "font": {
           "color": "#2a3f5f"
          },
          "geo": {
           "bgcolor": "white",
           "lakecolor": "white",
           "landcolor": "#E5ECF6",
           "showlakes": true,
           "showland": true,
           "subunitcolor": "white"
          },
          "hoverlabel": {
           "align": "left"
          },
          "hovermode": "closest",
          "mapbox": {
           "style": "light"
          },
          "paper_bgcolor": "white",
          "plot_bgcolor": "#E5ECF6",
          "polar": {
           "angularaxis": {
            "gridcolor": "white",
            "linecolor": "white",
            "ticks": ""
           },
           "bgcolor": "#E5ECF6",
           "radialaxis": {
            "gridcolor": "white",
            "linecolor": "white",
            "ticks": ""
           }
          },
          "scene": {
           "xaxis": {
            "backgroundcolor": "#E5ECF6",
            "gridcolor": "white",
            "gridwidth": 2,
            "linecolor": "white",
            "showbackground": true,
            "ticks": "",
            "zerolinecolor": "white"
           },
           "yaxis": {
            "backgroundcolor": "#E5ECF6",
            "gridcolor": "white",
            "gridwidth": 2,
            "linecolor": "white",
            "showbackground": true,
            "ticks": "",
            "zerolinecolor": "white"
           },
           "zaxis": {
            "backgroundcolor": "#E5ECF6",
            "gridcolor": "white",
            "gridwidth": 2,
            "linecolor": "white",
            "showbackground": true,
            "ticks": "",
            "zerolinecolor": "white"
           }
          },
          "shapedefaults": {
           "line": {
            "color": "#2a3f5f"
           }
          },
          "ternary": {
           "aaxis": {
            "gridcolor": "white",
            "linecolor": "white",
            "ticks": ""
           },
           "baxis": {
            "gridcolor": "white",
            "linecolor": "white",
            "ticks": ""
           },
           "bgcolor": "#E5ECF6",
           "caxis": {
            "gridcolor": "white",
            "linecolor": "white",
            "ticks": ""
           }
          },
          "title": {
           "x": 0.05
          },
          "xaxis": {
           "automargin": true,
           "gridcolor": "white",
           "linecolor": "white",
           "ticks": "",
           "title": {
            "standoff": 15
           },
           "zerolinecolor": "white",
           "zerolinewidth": 2
          },
          "yaxis": {
           "automargin": true,
           "gridcolor": "white",
           "linecolor": "white",
           "ticks": "",
           "title": {
            "standoff": 15
           },
           "zerolinecolor": "white",
           "zerolinewidth": 2
          }
         }
        },
        "title": {
         "text": "State Rankings"
        }
       }
      },
      "text/html": [
       "<div>                            <div id=\"bd9d4902-17e4-4e94-81e2-4bfc7246e8e9\" class=\"plotly-graph-div\" style=\"height:525px; width:100%;\"></div>            <script type=\"text/javascript\">                require([\"plotly\"], function(Plotly) {                    window.PLOTLYENV=window.PLOTLYENV || {};                                    if (document.getElementById(\"bd9d4902-17e4-4e94-81e2-4bfc7246e8e9\")) {                    Plotly.newPlot(                        \"bd9d4902-17e4-4e94-81e2-4bfc7246e8e9\",                        [{\"coloraxis\":\"coloraxis\",\"geo\":\"geo\",\"hovertemplate\":\"<b>%{hovertext}</b><br><br>location=%{location}<br>nbr_dose_per_person=%{z}<extra></extra>\",\"hovertext\":[\"MN\",\"WI\",\"VT\",\"OH\",\"HI\",\"IA\",\"OR\",\"MI\",\"WA\",\"ME\",\"CO\",\"IL\",\"NE\",\"American Samoa\",\"Puerto Rico\",\"MD\",\"Northern Mariana Islands\",\"TN\",\"IN\",\"CA\",\"WV\",\"Guam\",\"Republic of Palau\",\"MT\",\"AZ\",\"UT\",\"VA\",\"DE\",\"ID\",\"United States\",\"AK\",\"CT\",\"NY\",\"MO\",\"ND\",\"WY\",\"MA\",\"KY\",\"DC\",\"LA\",\"FL\",\"NH\",\"KS\",\"MS\",\"TX\",\"SC\",\"NM\",\"GA\",\"NJ\",\"PA\",\"RI\",\"Veterans Health\",\"AR\",\"Bureau of Prisons\",\"NV\",\"Federated States of Micronesia\",\"OK\",\"SD\",\"Marshall Islands\",\"Indian Health Svc\",\"AL\",\"Virgin Islands\",\"Dept of Defense\",\"NC\"],\"locationmode\":\"USA-states\",\"locations\":[\"MN\",\"WI\",\"VT\",\"OH\",\"HI\",\"IA\",\"OR\",\"MI\",\"WA\",\"ME\",\"CO\",\"IL\",\"NE\",\"American Samoa\",\"Puerto Rico\",\"MD\",\"Northern Mariana Islands\",\"TN\",\"IN\",\"CA\",\"WV\",\"Guam\",\"Republic of Palau\",\"MT\",\"AZ\",\"UT\",\"VA\",\"DE\",\"ID\",\"United States\",\"AK\",\"CT\",\"NY\",\"MO\",\"ND\",\"WY\",\"MA\",\"KY\",\"DC\",\"LA\",\"FL\",\"NH\",\"KS\",\"MS\",\"TX\",\"SC\",\"NM\",\"GA\",\"NJ\",\"PA\",\"RI\",\"Veterans Health\",\"AR\",\"Bureau of Prisons\",\"NV\",\"Federated States of Micronesia\",\"OK\",\"SD\",\"Marshall Islands\",\"Indian Health Svc\",\"AL\",\"Virgin Islands\",\"Dept of Defense\",\"NC\"],\"name\":\"\",\"z\":[2.63,2.62,2.6,2.56,2.55,2.54,2.52,2.51,2.51,2.5,2.5,2.5,2.49,2.49,2.48,2.47,2.46,2.46,2.45,2.45,2.45,2.41,2.41,2.4,2.4,2.38,2.37,2.37,2.36,2.36,2.35,2.34,2.33,2.32,2.31,2.31,2.31,2.31,2.3,2.29,2.29,2.28,2.27,2.26,2.25,2.25,2.25,2.24,2.24,2.23,2.22,2.22,2.2,2.2,2.2,2.19,2.18,2.18,2.15,2.11,2.11,2.08,1.96,1.95],\"type\":\"choropleth\"}],                        {\"template\":{\"data\":{\"histogram2dcontour\":[{\"type\":\"histogram2dcontour\",\"colorbar\":{\"outlinewidth\":0,\"ticks\":\"\"},\"colorscale\":[[0.0,\"#0d0887\"],[0.1111111111111111,\"#46039f\"],[0.2222222222222222,\"#7201a8\"],[0.3333333333333333,\"#9c179e\"],[0.4444444444444444,\"#bd3786\"],[0.5555555555555556,\"#d8576b\"],[0.6666666666666666,\"#ed7953\"],[0.7777777777777778,\"#fb9f3a\"],[0.8888888888888888,\"#fdca26\"],[1.0,\"#f0f921\"]]}],\"choropleth\":[{\"type\":\"choropleth\",\"colorbar\":{\"outlinewidth\":0,\"ticks\":\"\"}}],\"histogram2d\":[{\"type\":\"histogram2d\",\"colorbar\":{\"outlinewidth\":0,\"ticks\":\"\"},\"colorscale\":[[0.0,\"#0d0887\"],[0.1111111111111111,\"#46039f\"],[0.2222222222222222,\"#7201a8\"],[0.3333333333333333,\"#9c179e\"],[0.4444444444444444,\"#bd3786\"],[0.5555555555555556,\"#d8576b\"],[0.6666666666666666,\"#ed7953\"],[0.7777777777777778,\"#fb9f3a\"],[0.8888888888888888,\"#fdca26\"],[1.0,\"#f0f921\"]]}],\"heatmap\":[{\"type\":\"heatmap\",\"colorbar\":{\"outlinewidth\":0,\"ticks\":\"\"},\"colorscale\":[[0.0,\"#0d0887\"],[0.1111111111111111,\"#46039f\"],[0.2222222222222222,\"#7201a8\"],[0.3333333333333333,\"#9c179e\"],[0.4444444444444444,\"#bd3786\"],[0.5555555555555556,\"#d8576b\"],[0.6666666666666666,\"#ed7953\"],[0.7777777777777778,\"#fb9f3a\"],[0.8888888888888888,\"#fdca26\"],[1.0,\"#f0f921\"]]}],\"heatmapgl\":[{\"type\":\"heatmapgl\",\"colorbar\":{\"outlinewidth\":0,\"ticks\":\"\"},\"colorscale\":[[0.0,\"#0d0887\"],[0.1111111111111111,\"#46039f\"],[0.2222222222222222,\"#7201a8\"],[0.3333333333333333,\"#9c179e\"],[0.4444444444444444,\"#bd3786\"],[0.5555555555555556,\"#d8576b\"],[0.6666666666666666,\"#ed7953\"],[0.7777777777777778,\"#fb9f3a\"],[0.8888888888888888,\"#fdca26\"],[1.0,\"#f0f921\"]]}],\"contourcarpet\":[{\"type\":\"contourcarpet\",\"colorbar\":{\"outlinewidth\":0,\"ticks\":\"\"}}],\"contour\":[{\"type\":\"contour\",\"colorbar\":{\"outlinewidth\":0,\"ticks\":\"\"},\"colorscale\":[[0.0,\"#0d0887\"],[0.1111111111111111,\"#46039f\"],[0.2222222222222222,\"#7201a8\"],[0.3333333333333333,\"#9c179e\"],[0.4444444444444444,\"#bd3786\"],[0.5555555555555556,\"#d8576b\"],[0.6666666666666666,\"#ed7953\"],[0.7777777777777778,\"#fb9f3a\"],[0.8888888888888888,\"#fdca26\"],[1.0,\"#f0f921\"]]}],\"surface\":[{\"type\":\"surface\",\"colorbar\":{\"outlinewidth\":0,\"ticks\":\"\"},\"colorscale\":[[0.0,\"#0d0887\"],[0.1111111111111111,\"#46039f\"],[0.2222222222222222,\"#7201a8\"],[0.3333333333333333,\"#9c179e\"],[0.4444444444444444,\"#bd3786\"],[0.5555555555555556,\"#d8576b\"],[0.6666666666666666,\"#ed7953\"],[0.7777777777777778,\"#fb9f3a\"],[0.8888888888888888,\"#fdca26\"],[1.0,\"#f0f921\"]]}],\"mesh3d\":[{\"type\":\"mesh3d\",\"colorbar\":{\"outlinewidth\":0,\"ticks\":\"\"}}],\"scatter\":[{\"fillpattern\":{\"fillmode\":\"overlay\",\"size\":10,\"solidity\":0.2},\"type\":\"scatter\"}],\"parcoords\":[{\"type\":\"parcoords\",\"line\":{\"colorbar\":{\"outlinewidth\":0,\"ticks\":\"\"}}}],\"scatterpolargl\":[{\"type\":\"scatterpolargl\",\"marker\":{\"colorbar\":{\"outlinewidth\":0,\"ticks\":\"\"}}}],\"bar\":[{\"error_x\":{\"color\":\"#2a3f5f\"},\"error_y\":{\"color\":\"#2a3f5f\"},\"marker\":{\"line\":{\"color\":\"#E5ECF6\",\"width\":0.5},\"pattern\":{\"fillmode\":\"overlay\",\"size\":10,\"solidity\":0.2}},\"type\":\"bar\"}],\"scattergeo\":[{\"type\":\"scattergeo\",\"marker\":{\"colorbar\":{\"outlinewidth\":0,\"ticks\":\"\"}}}],\"scatterpolar\":[{\"type\":\"scatterpolar\",\"marker\":{\"colorbar\":{\"outlinewidth\":0,\"ticks\":\"\"}}}],\"histogram\":[{\"marker\":{\"pattern\":{\"fillmode\":\"overlay\",\"size\":10,\"solidity\":0.2}},\"type\":\"histogram\"}],\"scattergl\":[{\"type\":\"scattergl\",\"marker\":{\"colorbar\":{\"outlinewidth\":0,\"ticks\":\"\"}}}],\"scatter3d\":[{\"type\":\"scatter3d\",\"line\":{\"colorbar\":{\"outlinewidth\":0,\"ticks\":\"\"}},\"marker\":{\"colorbar\":{\"outlinewidth\":0,\"ticks\":\"\"}}}],\"scattermapbox\":[{\"type\":\"scattermapbox\",\"marker\":{\"colorbar\":{\"outlinewidth\":0,\"ticks\":\"\"}}}],\"scatterternary\":[{\"type\":\"scatterternary\",\"marker\":{\"colorbar\":{\"outlinewidth\":0,\"ticks\":\"\"}}}],\"scattercarpet\":[{\"type\":\"scattercarpet\",\"marker\":{\"colorbar\":{\"outlinewidth\":0,\"ticks\":\"\"}}}],\"carpet\":[{\"aaxis\":{\"endlinecolor\":\"#2a3f5f\",\"gridcolor\":\"white\",\"linecolor\":\"white\",\"minorgridcolor\":\"white\",\"startlinecolor\":\"#2a3f5f\"},\"baxis\":{\"endlinecolor\":\"#2a3f5f\",\"gridcolor\":\"white\",\"linecolor\":\"white\",\"minorgridcolor\":\"white\",\"startlinecolor\":\"#2a3f5f\"},\"type\":\"carpet\"}],\"table\":[{\"cells\":{\"fill\":{\"color\":\"#EBF0F8\"},\"line\":{\"color\":\"white\"}},\"header\":{\"fill\":{\"color\":\"#C8D4E3\"},\"line\":{\"color\":\"white\"}},\"type\":\"table\"}],\"barpolar\":[{\"marker\":{\"line\":{\"color\":\"#E5ECF6\",\"width\":0.5},\"pattern\":{\"fillmode\":\"overlay\",\"size\":10,\"solidity\":0.2}},\"type\":\"barpolar\"}],\"pie\":[{\"automargin\":true,\"type\":\"pie\"}]},\"layout\":{\"autotypenumbers\":\"strict\",\"colorway\":[\"#636efa\",\"#EF553B\",\"#00cc96\",\"#ab63fa\",\"#FFA15A\",\"#19d3f3\",\"#FF6692\",\"#B6E880\",\"#FF97FF\",\"#FECB52\"],\"font\":{\"color\":\"#2a3f5f\"},\"hovermode\":\"closest\",\"hoverlabel\":{\"align\":\"left\"},\"paper_bgcolor\":\"white\",\"plot_bgcolor\":\"#E5ECF6\",\"polar\":{\"bgcolor\":\"#E5ECF6\",\"angularaxis\":{\"gridcolor\":\"white\",\"linecolor\":\"white\",\"ticks\":\"\"},\"radialaxis\":{\"gridcolor\":\"white\",\"linecolor\":\"white\",\"ticks\":\"\"}},\"ternary\":{\"bgcolor\":\"#E5ECF6\",\"aaxis\":{\"gridcolor\":\"white\",\"linecolor\":\"white\",\"ticks\":\"\"},\"baxis\":{\"gridcolor\":\"white\",\"linecolor\":\"white\",\"ticks\":\"\"},\"caxis\":{\"gridcolor\":\"white\",\"linecolor\":\"white\",\"ticks\":\"\"}},\"coloraxis\":{\"colorbar\":{\"outlinewidth\":0,\"ticks\":\"\"}},\"colorscale\":{\"sequential\":[[0.0,\"#0d0887\"],[0.1111111111111111,\"#46039f\"],[0.2222222222222222,\"#7201a8\"],[0.3333333333333333,\"#9c179e\"],[0.4444444444444444,\"#bd3786\"],[0.5555555555555556,\"#d8576b\"],[0.6666666666666666,\"#ed7953\"],[0.7777777777777778,\"#fb9f3a\"],[0.8888888888888888,\"#fdca26\"],[1.0,\"#f0f921\"]],\"sequentialminus\":[[0.0,\"#0d0887\"],[0.1111111111111111,\"#46039f\"],[0.2222222222222222,\"#7201a8\"],[0.3333333333333333,\"#9c179e\"],[0.4444444444444444,\"#bd3786\"],[0.5555555555555556,\"#d8576b\"],[0.6666666666666666,\"#ed7953\"],[0.7777777777777778,\"#fb9f3a\"],[0.8888888888888888,\"#fdca26\"],[1.0,\"#f0f921\"]],\"diverging\":[[0,\"#8e0152\"],[0.1,\"#c51b7d\"],[0.2,\"#de77ae\"],[0.3,\"#f1b6da\"],[0.4,\"#fde0ef\"],[0.5,\"#f7f7f7\"],[0.6,\"#e6f5d0\"],[0.7,\"#b8e186\"],[0.8,\"#7fbc41\"],[0.9,\"#4d9221\"],[1,\"#276419\"]]},\"xaxis\":{\"gridcolor\":\"white\",\"linecolor\":\"white\",\"ticks\":\"\",\"title\":{\"standoff\":15},\"zerolinecolor\":\"white\",\"automargin\":true,\"zerolinewidth\":2},\"yaxis\":{\"gridcolor\":\"white\",\"linecolor\":\"white\",\"ticks\":\"\",\"title\":{\"standoff\":15},\"zerolinecolor\":\"white\",\"automargin\":true,\"zerolinewidth\":2},\"scene\":{\"xaxis\":{\"backgroundcolor\":\"#E5ECF6\",\"gridcolor\":\"white\",\"linecolor\":\"white\",\"showbackground\":true,\"ticks\":\"\",\"zerolinecolor\":\"white\",\"gridwidth\":2},\"yaxis\":{\"backgroundcolor\":\"#E5ECF6\",\"gridcolor\":\"white\",\"linecolor\":\"white\",\"showbackground\":true,\"ticks\":\"\",\"zerolinecolor\":\"white\",\"gridwidth\":2},\"zaxis\":{\"backgroundcolor\":\"#E5ECF6\",\"gridcolor\":\"white\",\"linecolor\":\"white\",\"showbackground\":true,\"ticks\":\"\",\"zerolinecolor\":\"white\",\"gridwidth\":2}},\"shapedefaults\":{\"line\":{\"color\":\"#2a3f5f\"}},\"annotationdefaults\":{\"arrowcolor\":\"#2a3f5f\",\"arrowhead\":0,\"arrowwidth\":1},\"geo\":{\"bgcolor\":\"white\",\"landcolor\":\"#E5ECF6\",\"subunitcolor\":\"white\",\"showland\":true,\"showlakes\":true,\"lakecolor\":\"white\"},\"title\":{\"x\":0.05},\"mapbox\":{\"style\":\"light\"}}},\"geo\":{\"domain\":{\"x\":[0.0,1.0],\"y\":[0.0,1.0]},\"center\":{},\"scope\":\"usa\"},\"coloraxis\":{\"colorbar\":{\"title\":{\"text\":\"nbr_dose_per_person\"}},\"colorscale\":[[0.0,\"#0d0887\"],[0.1111111111111111,\"#46039f\"],[0.2222222222222222,\"#7201a8\"],[0.3333333333333333,\"#9c179e\"],[0.4444444444444444,\"#bd3786\"],[0.5555555555555556,\"#d8576b\"],[0.6666666666666666,\"#ed7953\"],[0.7777777777777778,\"#fb9f3a\"],[0.8888888888888888,\"#fdca26\"],[1.0,\"#f0f921\"]]},\"legend\":{\"tracegroupgap\":0},\"margin\":{\"t\":60},\"title\":{\"text\":\"State Rankings\"}},                        {\"responsive\": true}                    ).then(function(){\n",
       "                            \n",
       "var gd = document.getElementById('bd9d4902-17e4-4e94-81e2-4bfc7246e8e9');\n",
       "var x = new MutationObserver(function (mutations, observer) {{\n",
       "        var display = window.getComputedStyle(gd).display;\n",
       "        if (!display || display === 'none') {{\n",
       "            console.log([gd, 'removed!']);\n",
       "            Plotly.purge(gd);\n",
       "            observer.disconnect();\n",
       "        }}\n",
       "}});\n",
       "\n",
       "// Listen for the removal of the full notebook cells\n",
       "var notebookContainer = gd.closest('#notebook-container');\n",
       "if (notebookContainer) {{\n",
       "    x.observe(notebookContainer, {childList: true});\n",
       "}}\n",
       "\n",
       "// Listen for the clearing of the current output cell\n",
       "var outputEl = gd.closest('.output');\n",
       "if (outputEl) {{\n",
       "    x.observe(outputEl, {childList: true});\n",
       "}}\n",
       "\n",
       "                        })                };                });            </script>        </div>"
      ]
     },
     "metadata": {},
     "output_type": "display_data"
    }
   ],
   "source": [
    "import plotly.express as px  # Be sure to import express\n",
    "fig = px.choropleth(df_bystate,  # Input Pandas DataFrame\n",
    "                    locations=\"location\",  # DataFrame column with locations\n",
    "                    color=\"nbr_dose_per_person\",  # DataFrame column with color values\n",
    "                    hover_name=\"location\", # DataFrame column hover info\n",
    "                    locationmode = 'USA-states') # Set to plot as US States\n",
    "fig.update_layout(\n",
    "    title_text = 'State Rankings', # Create a Title\n",
    "    geo_scope='usa',  # Plot only the USA instead of globe\n",
    ")\n",
    "fig.show()  # Output the plot to the screen"
   ]
  },
  {
   "cell_type": "markdown",
   "id": "07d40cc5",
   "metadata": {},
   "source": [
    "### daily vaccinations of each state by year and month \n",
    "(2021 middle is the peak of daily vaccination for most the states)"
   ]
  },
  {
   "cell_type": "code",
   "execution_count": 30,
   "id": "d2e6af28",
   "metadata": {},
   "outputs": [],
   "source": [
    "# %matplotlib notebook\n",
    "%matplotlib inline"
   ]
  },
  {
   "cell_type": "code",
   "execution_count": 31,
   "id": "1d1251c8-69d6-4c75-8d9b-b578e46dbb0a",
   "metadata": {},
   "outputs": [
    {
     "data": {
      "application/vnd.jupyter.widget-view+json": {
       "model_id": "77d1abc3bb6e4e429e066101d892ad50",
       "version_major": 2,
       "version_minor": 0
      },
      "text/plain": [
       "interactive(children=(Dropdown(description='state', options=('Alabama', 'Alaska', 'American Samoa', 'Arizona',…"
      ]
     },
     "metadata": {},
     "output_type": "display_data"
    }
   ],
   "source": [
    "state = df.location.unique()\n",
    "@interact(state = state)\n",
    "def f(state):      \n",
    "    df2 = df[df['location'].str.contains(state)]\n",
    "    sns.set(rc={'figure.figsize':(17,8.27)})\n",
    "    return sns.barplot(x = df2['year-month'].unique(), \n",
    "            y = df2.groupby(['year-month'])['daily_vaccinations'].sum())"
   ]
  },
  {
   "cell_type": "markdown",
   "id": "568f068b",
   "metadata": {},
   "source": [
    "### % of dose used of each state by year and month\n",
    "(vaccinations distributed were mostly used at begginning of 2021 when supply was low)"
   ]
  },
  {
   "cell_type": "code",
   "execution_count": 32,
   "id": "d973d67f",
   "metadata": {},
   "outputs": [],
   "source": [
    "# %matplotlib notebook\n",
    "%matplotlib inline"
   ]
  },
  {
   "cell_type": "code",
   "execution_count": 33,
   "id": "8e03a727-5d87-42a4-8b10-9f63c11359d9",
   "metadata": {},
   "outputs": [
    {
     "data": {
      "application/vnd.jupyter.widget-view+json": {
       "model_id": "974d640cfe6a4e3899a21f04dcc89261",
       "version_major": 2,
       "version_minor": 0
      },
      "text/plain": [
       "interactive(children=(Dropdown(description='state', options=('Alabama', 'Alaska', 'American Samoa', 'Arizona',…"
      ]
     },
     "metadata": {},
     "output_type": "display_data"
    }
   ],
   "source": [
    "state = df.location.unique()\n",
    "@interact(state = state)\n",
    "def f(state):      \n",
    "    df3 = df[df['location'].str.contains(state)]\n",
    "    sns.set(rc={'figure.figsize':(17,8.27)})\n",
    "    return sns.scatterplot(x = df3['date'].unique(), \n",
    "            y = df3['share_doses_used'].astype(float))"
   ]
  }
 ],
 "metadata": {
  "kernelspec": {
   "display_name": "Python 3",
   "language": "python",
   "name": "python3"
  },
  "language_info": {
   "codemirror_mode": {
    "name": "ipython",
    "version": 3
   },
   "file_extension": ".py",
   "mimetype": "text/x-python",
   "name": "python",
   "nbconvert_exporter": "python",
   "pygments_lexer": "ipython3",
   "version": "3.8.8"
  }
 },
 "nbformat": 4,
 "nbformat_minor": 5
}
