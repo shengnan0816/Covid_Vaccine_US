{
 "cells": [
  {
   "cell_type": "code",
   "execution_count": 2,
   "id": "9d176811-6d31-4d88-9932-5e88f0dc4667",
   "metadata": {},
   "outputs": [
    {
     "name": "stderr",
     "output_type": "stream",
     "text": [
      "/Users/shengnan/opt/anaconda3/lib/python3.8/site-packages/scipy/__init__.py:138: UserWarning: A NumPy version >=1.16.5 and <1.23.0 is required for this version of SciPy (detected version 1.23.4)\n",
      "  warnings.warn(f\"A NumPy version >={np_minversion} and <{np_maxversion} is required for this version of \"\n"
     ]
    }
   ],
   "source": [
    "from IPython.display import JSON\n",
    "import pandas as pd\n",
    "import json\n",
    "import seaborn as sns\n",
    "import matplotlib.pyplot as plt\n",
    "from ipywidgets import interact  "
   ]
  },
  {
   "cell_type": "code",
   "execution_count": 3,
   "id": "aa1bfc67-131b-4aca-bdba-2c1c82c2d625",
   "metadata": {},
   "outputs": [],
   "source": [
    "import ast\n",
    "# Read all lines into a list\n",
    "with open('/Users/shengnan/Desktop/projects/GitHub/covid_vaccine/data.json') as f:\n",
    "    content = f.readlines()\n",
    "\n",
    "# Convert each list item to a dict\n",
    "content = [ ast.literal_eval( line ) for line in content ]"
   ]
  },
  {
   "cell_type": "code",
   "execution_count": 4,
   "id": "582cd1a3-71e4-455c-8b8e-b3f420f99fad",
   "metadata": {
    "tags": []
   },
   "outputs": [],
   "source": [
    "df = pd.DataFrame(content)"
   ]
  },
  {
   "cell_type": "code",
   "execution_count": 5,
   "id": "4c183f74-399b-4302-bb01-c5f25a00a382",
   "metadata": {},
   "outputs": [],
   "source": [
    "df=df.fillna(0)\n",
    "df['date']=pd.to_datetime(df['date']).dt.date"
   ]
  },
  {
   "cell_type": "code",
   "execution_count": 6,
   "id": "82d8d555-02cb-48bb-a9f3-c041231602b4",
   "metadata": {},
   "outputs": [],
   "source": [
    "df['year-month']=df['date'].apply(lambda x: str(x.year) + '-' + str(x.month))"
   ]
  },
  {
   "cell_type": "code",
   "execution_count": 7,
   "id": "df16e8bf-fa49-4067-9621-921977e826fa",
   "metadata": {},
   "outputs": [
    {
     "name": "stdout",
     "output_type": "stream",
     "text": [
      "<class 'pandas.core.frame.DataFrame'>\n",
      "RangeIndex: 40740 entries, 0 to 40739\n",
      "Data columns (total 15 columns):\n",
      " #   Column                               Non-Null Count  Dtype  \n",
      "---  ------                               --------------  -----  \n",
      " 0   date                                 40740 non-null  object \n",
      " 1   location                             40740 non-null  object \n",
      " 2   total_vaccinations                   40740 non-null  float64\n",
      " 3   total_distributed                    40740 non-null  float64\n",
      " 4   people_vaccinated                    40740 non-null  float64\n",
      " 5   people_fully_vaccinated_per_hundred  40740 non-null  object \n",
      " 6   total_vaccinations_per_hundred       40740 non-null  object \n",
      " 7   people_fully_vaccinated              40740 non-null  float64\n",
      " 8   eople_vaccinated_per_hundred         40740 non-null  object \n",
      " 9   distributed_per_hundred              40740 non-null  object \n",
      " 10  share_doses_used                     40740 non-null  object \n",
      " 11  daily_vaccinations_raw               40740 non-null  float64\n",
      " 12  daily_vaccinations                   40740 non-null  float64\n",
      " 13  daily_vaccinations_per_million       40740 non-null  object \n",
      " 14  year-month                           40740 non-null  object \n",
      "dtypes: float64(6), object(9)\n",
      "memory usage: 4.7+ MB\n"
     ]
    }
   ],
   "source": [
    "df.info()"
   ]
  },
  {
   "cell_type": "code",
   "execution_count": 8,
   "id": "20a9858f-e21c-485d-9d1e-0f8fcdaa58bd",
   "metadata": {},
   "outputs": [
    {
     "data": {
      "text/html": [
       "<div>\n",
       "<style scoped>\n",
       "    .dataframe tbody tr th:only-of-type {\n",
       "        vertical-align: middle;\n",
       "    }\n",
       "\n",
       "    .dataframe tbody tr th {\n",
       "        vertical-align: top;\n",
       "    }\n",
       "\n",
       "    .dataframe thead th {\n",
       "        text-align: right;\n",
       "    }\n",
       "</style>\n",
       "<table border=\"1\" class=\"dataframe\">\n",
       "  <thead>\n",
       "    <tr style=\"text-align: right;\">\n",
       "      <th></th>\n",
       "      <th>location</th>\n",
       "      <th>nbr_dose_per_person</th>\n",
       "    </tr>\n",
       "  </thead>\n",
       "  <tbody>\n",
       "    <tr>\n",
       "      <th>19860</th>\n",
       "      <td>Minnesota</td>\n",
       "      <td>2.63</td>\n",
       "    </tr>\n",
       "    <tr>\n",
       "      <th>40107</th>\n",
       "      <td>Wisconsin</td>\n",
       "      <td>2.62</td>\n",
       "    </tr>\n",
       "    <tr>\n",
       "      <th>36315</th>\n",
       "      <td>Vermont</td>\n",
       "      <td>2.60</td>\n",
       "    </tr>\n",
       "    <tr>\n",
       "      <th>28076</th>\n",
       "      <td>Ohio</td>\n",
       "      <td>2.56</td>\n",
       "    </tr>\n",
       "    <tr>\n",
       "      <th>10743</th>\n",
       "      <td>Hawaii</td>\n",
       "      <td>2.55</td>\n",
       "    </tr>\n",
       "    <tr>\n",
       "      <th>...</th>\n",
       "      <td>...</td>\n",
       "      <td>...</td>\n",
       "    </tr>\n",
       "    <tr>\n",
       "      <th>12639</th>\n",
       "      <td>Indian Health Svc</td>\n",
       "      <td>2.11</td>\n",
       "    </tr>\n",
       "    <tr>\n",
       "      <th>631</th>\n",
       "      <td>Alabama</td>\n",
       "      <td>2.11</td>\n",
       "    </tr>\n",
       "    <tr>\n",
       "      <th>37579</th>\n",
       "      <td>Virgin Islands</td>\n",
       "      <td>2.08</td>\n",
       "    </tr>\n",
       "    <tr>\n",
       "      <th>6951</th>\n",
       "      <td>Dept of Defense</td>\n",
       "      <td>1.96</td>\n",
       "    </tr>\n",
       "    <tr>\n",
       "      <th>26180</th>\n",
       "      <td>North Carolina</td>\n",
       "      <td>1.95</td>\n",
       "    </tr>\n",
       "  </tbody>\n",
       "</table>\n",
       "<p>64 rows × 2 columns</p>\n",
       "</div>"
      ],
      "text/plain": [
       "                location  nbr_dose_per_person\n",
       "19860          Minnesota                 2.63\n",
       "40107          Wisconsin                 2.62\n",
       "36315            Vermont                 2.60\n",
       "28076               Ohio                 2.56\n",
       "10743             Hawaii                 2.55\n",
       "...                  ...                  ...\n",
       "12639  Indian Health Svc                 2.11\n",
       "631              Alabama                 2.11\n",
       "37579     Virgin Islands                 2.08\n",
       "6951     Dept of Defense                 1.96\n",
       "26180     North Carolina                 1.95\n",
       "\n",
       "[64 rows x 2 columns]"
      ]
     },
     "execution_count": 8,
     "metadata": {},
     "output_type": "execute_result"
    }
   ],
   "source": [
    "df['nbr_dose_per_person']=df['total_vaccinations']/df['people_vaccinated']\n",
    "df['nbr_dose_per_person']=df['nbr_dose_per_person'].astype(float).round(2)\n",
    "df[df['date'].astype(str)=='2022-10-05'][['location','nbr_dose_per_person']].sort_values('nbr_dose_per_person',ascending=False)\n",
    "# df"
   ]
  },
  {
   "cell_type": "code",
   "execution_count": 9,
   "id": "1d1251c8-69d6-4c75-8d9b-b578e46dbb0a",
   "metadata": {},
   "outputs": [
    {
     "data": {
      "application/vnd.jupyter.widget-view+json": {
       "model_id": "5d07c15614e44663a4b36a292618e5d5",
       "version_major": 2,
       "version_minor": 0
      },
      "text/plain": [
       "interactive(children=(Dropdown(description='state', options=('Alabama', 'Alaska', 'American Samoa', 'Arizona',…"
      ]
     },
     "metadata": {},
     "output_type": "display_data"
    }
   ],
   "source": [
    "state = df.location.unique()\n",
    "@interact(state = state)\n",
    "def f(state):      \n",
    "    df2 = df[df['location'].str.contains(state)]\n",
    "    sns.set(rc={'figure.figsize':(17,8.27)})\n",
    "    return sns.barplot(x = df2['year-month'].unique(), \n",
    "            y = df2.groupby(['year-month'])['daily_vaccinations'].sum())"
   ]
  },
  {
   "cell_type": "code",
   "execution_count": 10,
   "id": "8e03a727-5d87-42a4-8b10-9f63c11359d9",
   "metadata": {},
   "outputs": [
    {
     "data": {
      "application/vnd.jupyter.widget-view+json": {
       "model_id": "2d4020ecdf444b4793b881cffb2aa4f2",
       "version_major": 2,
       "version_minor": 0
      },
      "text/plain": [
       "interactive(children=(Dropdown(description='state', options=('Alabama', 'Alaska', 'American Samoa', 'Arizona',…"
      ]
     },
     "metadata": {},
     "output_type": "display_data"
    }
   ],
   "source": [
    "state = df.location.unique()\n",
    "@interact(state = state)\n",
    "def f(state):      \n",
    "    df3 = df[df['location'].str.contains(state)]\n",
    "    sns.set(rc={'figure.figsize':(17,8.27)})\n",
    "    return sns.scatterplot(x = df3['date'].unique(), \n",
    "            y = df3['share_doses_used'].astype(float))"
   ]
  }
 ],
 "metadata": {
  "kernelspec": {
   "display_name": "Python 3",
   "language": "python",
   "name": "python3"
  },
  "language_info": {
   "codemirror_mode": {
    "name": "ipython",
    "version": 3
   },
   "file_extension": ".py",
   "mimetype": "text/x-python",
   "name": "python",
   "nbconvert_exporter": "python",
   "pygments_lexer": "ipython3",
   "version": "3.8.8"
  }
 },
 "nbformat": 4,
 "nbformat_minor": 5
}
